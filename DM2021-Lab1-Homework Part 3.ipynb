{
 "cells": [
  {
   "cell_type": "markdown",
   "metadata": {},
   "source": [
    "# DM2021-Lab1-Homework Part 3"
   ]
  },
  {
   "cell_type": "markdown",
   "metadata": {},
   "source": [
    "## Table of Contents\n",
    "0. Preparing Data\n",
    "2. TF-IDF Features\n",
    "3. NB Classifier\n",
    " - 3.1 NB Classsifier with tfidf features\n",
    " - 3.2 Word frequency features\n",
    " - 3.3 NB Classifier with word frequency features\n",
    " - 3.4 Comparing the classifiers\n",
    "1. New Visualizations\n",
    " - 1.1 Test size vs accuracy of classifiers"
   ]
  },
  {
   "cell_type": "markdown",
   "metadata": {},
   "source": [
    "## 0. Preparing Data"
   ]
  },
  {
   "cell_type": "code",
   "execution_count": 1,
   "metadata": {},
   "outputs": [],
   "source": [
    "import helpers.data_mining_helpers as dmh\n",
    "\n",
    "amazon_data = dmh.retrieve_new_data('amazon_cells_labelled.txt')\n",
    "imdb_data = dmh.retrieve_new_data('imdb_labelled.txt')\n",
    "yelp_data = dmh.retrieve_new_data('yelp_labelled.txt')\n",
    "data_train = amazon_data + imdb_data + yelp_data"
   ]
  },
  {
   "cell_type": "code",
   "execution_count": 2,
   "metadata": {},
   "outputs": [],
   "source": [
    "# Making pandas Dataframe\n",
    "\n",
    "import pandas as pd\n",
    "\n",
    "for text in data_train:\n",
    "    text[0] = text[0].strip('\\t.')\n",
    "X = pd.DataFrame.from_records(data_train, columns= ['text', 'category'])"
   ]
  },
  {
   "cell_type": "code",
   "execution_count": 3,
   "metadata": {},
   "outputs": [],
   "source": [
    "# Dropping duplicates\n",
    "\n",
    "X.drop_duplicates(keep='first', inplace=True)"
   ]
  },
  {
   "cell_type": "code",
   "execution_count": 4,
   "metadata": {},
   "outputs": [],
   "source": [
    "categories = ['negative', 'positive']"
   ]
  },
  {
   "cell_type": "code",
   "execution_count": 5,
   "metadata": {},
   "outputs": [
    {
     "data": {
      "text/html": [
       "<div>\n",
       "<style scoped>\n",
       "    .dataframe tbody tr th:only-of-type {\n",
       "        vertical-align: middle;\n",
       "    }\n",
       "\n",
       "    .dataframe tbody tr th {\n",
       "        vertical-align: top;\n",
       "    }\n",
       "\n",
       "    .dataframe thead th {\n",
       "        text-align: right;\n",
       "    }\n",
       "</style>\n",
       "<table border=\"1\" class=\"dataframe\">\n",
       "  <thead>\n",
       "    <tr style=\"text-align: right;\">\n",
       "      <th></th>\n",
       "      <th>text</th>\n",
       "      <th>category</th>\n",
       "    </tr>\n",
       "  </thead>\n",
       "  <tbody>\n",
       "    <tr>\n",
       "      <th>0</th>\n",
       "      <td>The amount of missing records is:</td>\n",
       "      <td>The amount of missing records is:</td>\n",
       "    </tr>\n",
       "    <tr>\n",
       "      <th>1</th>\n",
       "      <td>0</td>\n",
       "      <td>0</td>\n",
       "    </tr>\n",
       "  </tbody>\n",
       "</table>\n",
       "</div>"
      ],
      "text/plain": [
       "                                 text                            category\n",
       "0  The amount of missing records is:   The amount of missing records is: \n",
       "1                                   0                                   0"
      ]
     },
     "execution_count": 5,
     "metadata": {},
     "output_type": "execute_result"
    }
   ],
   "source": [
    "# Checking for missing values\n",
    "\n",
    "X.isnull().apply(lambda x: dmh.check_missing_values(x))"
   ]
  },
  {
   "cell_type": "code",
   "execution_count": 6,
   "metadata": {},
   "outputs": [],
   "source": [
    "# Adding category name label\n",
    "\n",
    "X['category_name'] = X.category.apply(lambda t: categories[int(t)])"
   ]
  },
  {
   "cell_type": "code",
   "execution_count": 7,
   "metadata": {},
   "outputs": [
    {
     "name": "stdout",
     "output_type": "stream",
     "text": [
      "negative    1493\n",
      "positive    1490\n",
      "Name: category_name, dtype: int64\n"
     ]
    },
    {
     "data": {
      "text/plain": [
       "<AxesSubplot:title={'center':'Category distribution'}>"
      ]
     },
     "execution_count": 7,
     "metadata": {},
     "output_type": "execute_result"
    },
    {
     "data": {
      "image/png": "[encoded data removed]",
      "text/plain": [
       "<Figure size 432x288 with 1 Axes>"
      ]
     },
     "metadata": {
      "needs_background": "light"
     },
     "output_type": "display_data"
    }
   ],
   "source": [
    "# Checking category distribution\n",
    "\n",
    "import matplotlib.pyplot as plt\n",
    "print(X.category_name.value_counts())\n",
    "\n",
    "X.category_name.value_counts().plot(kind = 'bar',\n",
    "                                    title = 'Category distribution',\n",
    "                                    rot = 0)"
   ]
  },
  {
   "cell_type": "markdown",
   "metadata": {},
   "source": [
    "## 2. TF-IDF features"
   ]
  },
  {
   "cell_type": "code",
   "execution_count": 8,
   "metadata": {},
   "outputs": [],
   "source": [
    "# Creating tfidf features\n",
    "\n",
    "from sklearn.feature_extraction.text import TfidfVectorizer\n",
    "import numpy as np\n",
    "\n",
    "tfidf_vect = TfidfVectorizer()\n",
    "X_TFIDF = tfidf_vect.fit_transform(X.text)"
   ]
  },
  {
   "cell_type": "code",
   "execution_count": 9,
   "metadata": {},
   "outputs": [],
   "source": [
    "# Filtering terms in dictionary\n",
    "\n",
    "import enchant\n",
    "d = enchant.Dict('en_US')\n",
    "terms = tfidf_vect.get_feature_names()\n",
    "terms_enUS = []\n",
    "select_index = []\n",
    "for i in range(0, len(terms)):\n",
    "    if d.check(terms[i]) and terms[i].isalpha():\n",
    "        terms_enUS.append(terms[i])\n",
    "        select_index.append(i)\n",
    "        \n",
    "X_TFIDF_en_US = X_TFIDF.tocsr()[:, select_index]"
   ]
  },
  {
   "cell_type": "code",
   "execution_count": 10,
   "metadata": {},
   "outputs": [
    {
     "data": {
      "text/plain": [
       "(2983, 4421)"
      ]
     },
     "execution_count": 10,
     "metadata": {},
     "output_type": "execute_result"
    }
   ],
   "source": [
    "X_TFIDF_en_US.shape"
   ]
  },
  {
   "cell_type": "markdown",
   "metadata": {},
   "source": [
    "## 3. NB Classifier"
   ]
  },
  {
   "cell_type": "markdown",
   "metadata": {},
   "source": [
    "### 3.1 NB Classsifier with tfidf features"
   ]
  },
  {
   "cell_type": "code",
   "execution_count": 11,
   "metadata": {},
   "outputs": [],
   "source": [
    "# Creating nb classifier with tfidf features\n",
    "\n",
    "from sklearn.naive_bayes import BernoulliNB\n",
    "from sklearn.model_selection import train_test_split\n",
    "\n",
    "X_train, X_test, Y_train, Y_test = train_test_split(X_TFIDF_en_US, list(X.category), test_size=0.25)\n",
    "\n",
    "bnb_TFIDF = BernoulliNB()\n",
    "bnb_TFIDF.fit(X_train, Y_train)\n",
    "score_tfidf = bnb_TFIDF.score(X_test, Y_test)"
   ]
  },
  {
   "cell_type": "code",
   "execution_count": 12,
   "metadata": {},
   "outputs": [],
   "source": [
    "def classify_tfidf(sent):\n",
    "    return bnb_TFIDF.predict(tfidf_vect.transform(sent)[:, select_index])"
   ]
  },
  {
   "cell_type": "code",
   "execution_count": 13,
   "metadata": {},
   "outputs": [
    {
     "data": {
      "text/plain": [
       "array(['1', '0', '0'], dtype='<U1')"
      ]
     },
     "execution_count": 13,
     "metadata": {},
     "output_type": "execute_result"
    }
   ],
   "source": [
    "# Checking the classifier\n",
    "\n",
    "sent = ['It was a great movie',\n",
    "        'Waste of my time',\n",
    "        'Served rotten food']\n",
    "classify_tfidf(sent)"
   ]
  },
  {
   "cell_type": "markdown",
   "metadata": {},
   "source": [
    "### 3.2 Word frequency features"
   ]
  },
  {
   "cell_type": "code",
   "execution_count": 14,
   "metadata": {},
   "outputs": [],
   "source": [
    "# Creating word frequency features\n",
    "\n",
    "from sklearn.feature_extraction.text import CountVectorizer\n",
    "count_vect = CountVectorizer()\n",
    "X_counts = count_vect.fit_transform(X.text)\n",
    "X_counts_en_US = X_counts.tocsr()[:, select_index]"
   ]
  },
  {
   "cell_type": "code",
   "execution_count": 15,
   "metadata": {},
   "outputs": [
    {
     "data": {
      "text/plain": [
       "(2983, 4421)"
      ]
     },
     "execution_count": 15,
     "metadata": {},
     "output_type": "execute_result"
    }
   ],
   "source": [
    "X_counts_en_US.shape"
   ]
  },
  {
   "cell_type": "markdown",
   "metadata": {},
   "source": [
    "### 3.3 NB Classifier with word frequency features"
   ]
  },
  {
   "cell_type": "code",
   "execution_count": 16,
   "metadata": {},
   "outputs": [],
   "source": [
    "# Creating nb classifier with word frequency features\n",
    "\n",
    "X_train, X_test, Y_train, Y_test = train_test_split(X_counts_en_US, list(X.category), test_size=0.25)\n",
    "\n",
    "bnb_counts = BernoulliNB()\n",
    "bnb_counts.fit(X_train, Y_train)\n",
    "score_counts = bnb_counts.score(X_test, Y_test)"
   ]
  },
  {
   "cell_type": "code",
   "execution_count": 17,
   "metadata": {},
   "outputs": [],
   "source": [
    "def classify_counts(sent):\n",
    "    return bnb_counts.predict(count_vect.transform(sent)[:, select_index])"
   ]
  },
  {
   "cell_type": "code",
   "execution_count": 18,
   "metadata": {},
   "outputs": [
    {
     "data": {
      "text/plain": [
       "array(['1', '0', '0'], dtype='<U1')"
      ]
     },
     "execution_count": 18,
     "metadata": {},
     "output_type": "execute_result"
    }
   ],
   "source": [
    "# Checking the classifier\n",
    "\n",
    "sent = ['It was a great movie',\n",
    "        'Waste of my time',\n",
    "        'Served rotten food']\n",
    "classify_counts(sent)"
   ]
  },
  {
   "cell_type": "markdown",
   "metadata": {},
   "source": [
    "### 3.4 Comparing the classifiers"
   ]
  },
  {
   "cell_type": "code",
   "execution_count": 19,
   "metadata": {},
   "outputs": [
    {
     "data": {
      "text/plain": [
       "<BarContainer object of 2 artists>"
      ]
     },
     "execution_count": 19,
     "metadata": {},
     "output_type": "execute_result"
    },
    {
     "data": {
      "image/png": "[encoded data removed]",
      "text/plain": [
       "<Figure size 432x288 with 1 Axes>"
      ]
     },
     "metadata": {
      "needs_background": "light"
     },
     "output_type": "display_data"
    }
   ],
   "source": [
    "plt.bar(['tfidf', 'counts'], [score_tfidf, score_counts])"
   ]
  },
  {
   "cell_type": "markdown",
   "metadata": {},
   "source": [
    "## 1. New Visualizations"
   ]
  },
  {
   "cell_type": "markdown",
   "metadata": {},
   "source": [
    "### 1.1 Test size vs accuracy of classifiers"
   ]
  },
  {
   "cell_type": "code",
   "execution_count": 20,
   "metadata": {},
   "outputs": [],
   "source": [
    "# Plotting test size vs accuracy\n",
    "\n",
    "accuracy_tfidf = []\n",
    "test_size = [float(round(i, 2)) for i in np.arange(0.05, 1, 0.05)]\n",
    "for i in test_size:\n",
    "    scores = []\n",
    "    for j in range(0, 100):\n",
    "        X_train, X_test, Y_train, Y_test = train_test_split(X_TFIDF_en_US, list(X.category), test_size = i)\n",
    "        bnb = BernoulliNB(binarize = 0.0)\n",
    "        bnb.fit(X_train, Y_train)\n",
    "        scores.append(bnb.score(X_test, Y_test))\n",
    "    accuracy_tfidf.append(sum(scores)/100)"
   ]
  },
  {
   "cell_type": "code",
   "execution_count": 21,
   "metadata": {},
   "outputs": [],
   "source": [
    "accuracy_counts = []\n",
    "test_size = [float(round(i, 2)) for i in np.arange(0.05, 1, 0.05)]\n",
    "for i in test_size:\n",
    "    scores = []\n",
    "    for j in range(0, 100):\n",
    "        X_train, X_test, Y_train, Y_test = train_test_split(X_counts_en_US, list(X.category), test_size = i)\n",
    "        bnb = BernoulliNB(binarize = 0.0)\n",
    "        bnb.fit(X_train, Y_train)\n",
    "        scores.append(bnb.score(X_test, Y_test))\n",
    "    accuracy_counts.append(sum(scores)/100)"
   ]
  },
  {
   "cell_type": "code",
   "execution_count": 22,
   "metadata": {},
   "outputs": [
    {
     "data": {
      "text/plain": [
       "Text(0, 0.5, 'accuracy')"
      ]
     },
     "execution_count": 22,
     "metadata": {},
     "output_type": "execute_result"
    },
    {
     "data": {
      "image/png": "[encoded data removed]",
      "text/plain": [
       "<Figure size 432x288 with 1 Axes>"
      ]
     },
     "metadata": {
      "needs_background": "light"
     },
     "output_type": "display_data"
    }
   ],
   "source": [
    "plt.plot(test_size, accuracy_tfidf, label = 'tfidf')\n",
    "plt.plot(test_size, accuracy_counts, label = 'counts')\n",
    "plt.legend()\n",
    "plt.xlabel('test size')\n",
    "plt.ylabel('accuracy')"
   ]
  },
  {
   "cell_type": "code",
   "execution_count": 23,
   "metadata": {},
   "outputs": [],
   "source": [
    "# Very similar performance"
   ]
  },
  {
   "cell_type": "code",
   "execution_count": null,
   "metadata": {},
   "outputs": [],
   "source": []
  }
 ],
 "metadata": {
  "kernelspec": {
   "display_name": "Python 3",
   "language": "python",
   "name": "python3"
  },
  "language_info": {
   "codemirror_mode": {
    "name": "ipython",
    "version": 3
   },
   "file_extension": ".py",
   "mimetype": "text/x-python",
   "name": "python",
   "nbconvert_exporter": "python",
   "pygments_lexer": "ipython3",
   "version": "3.8.5"
  }
 },
 "nbformat": 4,
 "nbformat_minor": 4
}
